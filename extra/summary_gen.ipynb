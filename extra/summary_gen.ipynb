{
 "cells": [
  {
   "cell_type": "code",
   "execution_count": 1,
   "metadata": {},
   "outputs": [],
   "source": [
    "import pandas as pd"
   ]
  },
  {
   "cell_type": "code",
   "execution_count": 2,
   "metadata": {
    "scrolled": true
   },
   "outputs": [
    {
     "data": {
      "text/html": [
       "<div>\n",
       "<style scoped>\n",
       "    .dataframe tbody tr th:only-of-type {\n",
       "        vertical-align: middle;\n",
       "    }\n",
       "\n",
       "    .dataframe tbody tr th {\n",
       "        vertical-align: top;\n",
       "    }\n",
       "\n",
       "    .dataframe thead th {\n",
       "        text-align: right;\n",
       "    }\n",
       "</style>\n",
       "<table border=\"1\" class=\"dataframe\">\n",
       "  <thead>\n",
       "    <tr style=\"text-align: right;\">\n",
       "      <th></th>\n",
       "      <th>Encoder</th>\n",
       "      <th>Summary</th>\n",
       "    </tr>\n",
       "  </thead>\n",
       "  <tbody>\n",
       "    <tr>\n",
       "      <th>0</th>\n",
       "      <td>&lt;SOS&gt; soldiers told their salaries are lower p...</td>\n",
       "      <td>soldiers told their salaries are lower priorit...</td>\n",
       "    </tr>\n",
       "    <tr>\n",
       "      <th>1</th>\n",
       "      <td>&lt;SOS&gt; ryan allegedly used ' old &lt;UNK&gt; ' while ...</td>\n",
       "      <td>ryan allegedly used ' old &lt;UNK&gt; ' while editin...</td>\n",
       "    </tr>\n",
       "    <tr>\n",
       "      <th>2</th>\n",
       "      <td>&lt;SOS&gt; there ' s no reason to unduly delay cons...</td>\n",
       "      <td>there ' s no reason to discourage delay consid...</td>\n",
       "    </tr>\n",
       "    <tr>\n",
       "      <th>3</th>\n",
       "      <td>&lt;SOS&gt; retailer saw a slump in clothing sales o...</td>\n",
       "      <td>retailer saw a slump in clothing sales over th...</td>\n",
       "    </tr>\n",
       "    <tr>\n",
       "      <th>4</th>\n",
       "      <td>&lt;SOS&gt; erin cox went to a party to pick up a fr...</td>\n",
       "      <td>erin cox went to a party to pick up a friend w...</td>\n",
       "    </tr>\n",
       "  </tbody>\n",
       "</table>\n",
       "</div>"
      ],
      "text/plain": [
       "                                             Encoder  \\\n",
       "0  <SOS> soldiers told their salaries are lower p...   \n",
       "1  <SOS> ryan allegedly used ' old <UNK> ' while ...   \n",
       "2  <SOS> there ' s no reason to unduly delay cons...   \n",
       "3  <SOS> retailer saw a slump in clothing sales o...   \n",
       "4  <SOS> erin cox went to a party to pick up a fr...   \n",
       "\n",
       "                                             Summary  \n",
       "0  soldiers told their salaries are lower priorit...  \n",
       "1  ryan allegedly used ' old <UNK> ' while editin...  \n",
       "2  there ' s no reason to discourage delay consid...  \n",
       "3  retailer saw a slump in clothing sales over th...  \n",
       "4  erin cox went to a party to pick up a friend w...  "
      ]
     },
     "execution_count": 2,
     "metadata": {},
     "output_type": "execute_result"
    }
   ],
   "source": [
    "df = pd.read_csv('20k_test2.csv')\n",
    "df.head()"
   ]
  },
  {
   "cell_type": "code",
   "execution_count": 3,
   "metadata": {},
   "outputs": [],
   "source": [
    "decoder_list = df['Encoder'].tolist()\n",
    "#tokenize the decoder data based on spaces\n",
    "decoder_list = [sent.split() for sent in decoder_list]\n",
    "#for each sentence, remove all tokens after EOS token\n",
    "for i in range(len(decoder_list)):\n",
    "    if '<EOS>' in decoder_list[i]:\n",
    "        decoder_list[i] = decoder_list[i][:decoder_list[i].index('<EOS>')+1]\n",
    "    else:\n",
    "        decoder_list[i] = decoder_list[i][:decoder_list[i].index('.')+1]\n",
    "        \n",
    "decoder_list = [' '.join(sent) for sent in decoder_list]"
   ]
  },
  {
   "cell_type": "code",
   "execution_count": 4,
   "metadata": {},
   "outputs": [],
   "source": [
    "from rouge_score import rouge_scorer\n",
    "# make a RougeScorer object with rouge_types=['rouge1']\n",
    "summary_list = df['Summary'].tolist()\n",
    "\n",
    "scorer = rouge_scorer.RougeScorer(['rougeL'])\n",
    "\n",
    "# a dictionary that will contain the results\n",
    "results = {'precision': [], 'recall': [], 'fmeasure': []}\n",
    "\n",
    "# for each of the hypothesis and reference documents pair\n",
    "for (h, r) in zip(decoder_list, summary_list):\n",
    "    # computing the ROUGE\n",
    "    score = scorer.score(h, r)\n",
    "    # separating the measurements\n",
    "    precision, recall, fmeasure = score['rougeL']\n",
    "    # add them to the proper list in the dictionary\n",
    "    results['precision'].append(precision)\n",
    "    results['recall'].append(recall)\n",
    "    results['fmeasure'].append(fmeasure)\n"
   ]
  },
  {
   "cell_type": "code",
   "execution_count": 5,
   "metadata": {},
   "outputs": [
    {
     "name": "stdout",
     "output_type": "stream",
     "text": [
      "Average Precision:  0.6517001589768396\n",
      "Average Recall:  0.9090842670220239\n",
      "Average F-Measure:  0.7426946215646577\n"
     ]
    }
   ],
   "source": [
    "#calculating the average\n",
    "avg_precision = sum(results['precision']) / len(results['precision'])\n",
    "avg_recall = sum(results['recall']) / len(results['recall'])\n",
    "avg_fmeasure = sum(results['fmeasure']) / len(results['fmeasure'])\n",
    "print(\"Average Precision: \", avg_precision)\n",
    "print(\"Average Recall: \", avg_recall)\n",
    "print(\"Average F-Measure: \", avg_fmeasure)"
   ]
  },
  {
   "cell_type": "code",
   "execution_count": 6,
   "metadata": {},
   "outputs": [
    {
     "name": "stdout",
     "output_type": "stream",
     "text": [
      "Enter index: 10\n",
      "Decoder:  <SOS> surgeons feature in workforce monitoring experiment with rfid chips . enables productivity and efficiency gains that could transform industry . high-tech monitoring field expanding rapidly and becoming more sophisticated . experts have concerns over ethics and legal capacity to deal with issues . <EOS>\n",
      "Summary:  surgeons feature in workforce monitoring experiment with gps chips . allows productivity and requirements gains that could transform industry . high-tech monitoring field expanding rapidly and becoming more sophisticated . experts have concerns over ethics and legal capacity to deal with issues . <EOS> <EOS> <UNK> <UNK> <UNK> <UNK> <UNK> <UNK> <UNK> <UNK> <UNK> <UNK> <UNK> <UNK> <UNK> <UNK> <UNK> <UNK> <UNK> <UNK> <UNK> <UNK> <UNK> <UNK> <UNK> <UNK> <UNK> <UNK> <UNK> <UNK> <UNK>\n"
     ]
    }
   ],
   "source": [
    "index = int(input(\"Enter index: \"))\n",
    "print(\"Decoder: \", decoder_list[index])\n",
    "print(\"Summary: \", df['Summary'][index])"
   ]
  },
  {
   "cell_type": "code",
   "execution_count": null,
   "metadata": {},
   "outputs": [],
   "source": []
  }
 ],
 "metadata": {
  "kernelspec": {
   "display_name": "pyt",
   "language": "python",
   "name": "pyt"
  },
  "language_info": {
   "codemirror_mode": {
    "name": "ipython",
    "version": 3
   },
   "file_extension": ".py",
   "mimetype": "text/x-python",
   "name": "python",
   "nbconvert_exporter": "python",
   "pygments_lexer": "ipython3",
   "version": "3.10.4"
  }
 },
 "nbformat": 4,
 "nbformat_minor": 2
}
