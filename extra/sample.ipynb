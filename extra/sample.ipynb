{
 "cells": [
  {
   "cell_type": "code",
   "execution_count": 1,
   "metadata": {},
   "outputs": [
    {
     "data": {
      "text/plain": [
       "device(type='cuda', index=0)"
      ]
     },
     "execution_count": 1,
     "metadata": {},
     "output_type": "execute_result"
    }
   ],
   "source": [
    "#Initializing torch and cuda device\n",
    "import torch\n",
    "device = torch.device('cuda:0' if torch.cuda.is_available() else 'cpu')\n",
    "device"
   ]
  },
  {
   "cell_type": "code",
   "execution_count": 2,
   "metadata": {},
   "outputs": [],
   "source": [
    "import pandas as pd \n",
    "import numpy as np\n",
    "import re"
   ]
  },
  {
   "cell_type": "code",
   "execution_count": 3,
   "metadata": {},
   "outputs": [],
   "source": [
    "import torch\n",
    "import torchtext\n",
    "\n",
    "# print(\"Torch Text Version : {}\".format(torchtext.__version__))"
   ]
  },
  {
   "cell_type": "code",
   "execution_count": 4,
   "metadata": {},
   "outputs": [],
   "source": [
    "df_train = pd.read_csv('train_50k.csv')\n",
    "# df_train.head()\n",
    "df_train = df_train[:20000]"
   ]
  },
  {
   "cell_type": "code",
   "execution_count": 5,
   "metadata": {},
   "outputs": [],
   "source": [
    "#Importing tokenizer from torch.data\n",
    "import torchtext\n",
    "from torchtext.data import get_tokenizer\n",
    "tokenizer = get_tokenizer('basic_english')\n"
   ]
  },
  {
   "cell_type": "code",
   "execution_count": 6,
   "metadata": {},
   "outputs": [],
   "source": [
    "train_articles = df_train['article'].values\n",
    "tokenized_train_articles = [tokenizer(sent) for sent in train_articles]\n",
    "# print(tokenized_train_articles[0])\n",
    "train_highlights = df_train['highlights'].values\n",
    "tokenized_train_highlights = [tokenizer(sent) for sent in train_highlights]\n",
    "tokenized_train_highlights = [['<SOS>'] + sent + ['<EOS>'] for sent in tokenized_train_highlights]\n",
    "# print(tokenized_train_highlights[0])\n"
   ]
  },
  {
   "cell_type": "code",
   "execution_count": 7,
   "metadata": {},
   "outputs": [
    {
     "name": "stdout",
     "output_type": "stream",
     "text": [
      "Number of training examples : 10000\n",
      "Number of test examples : 10000\n"
     ]
    }
   ],
   "source": [
    "split_ratio = 0.5\n",
    "split = int(split_ratio * len(tokenized_train_articles))\n",
    "train_articles = tokenized_train_articles[:split]\n",
    "test_articles = tokenized_train_articles[split:]\n",
    "train_highlights = tokenized_train_highlights[:split]\n",
    "test_highlights = tokenized_train_highlights[split:]\n",
    "print(\"Number of training examples : {}\".format(len(train_articles)))\n",
    "print(\"Number of test examples : {}\".format(len(test_articles)))\n",
    "tokenized_train_articles = train_articles\n",
    "tokenized_test_articles = test_articles\n",
    "tokenized_train_highlights = train_highlights\n",
    "tokenized_test_highlights = test_highlights"
   ]
  },
  {
   "cell_type": "code",
   "execution_count": 8,
   "metadata": {},
   "outputs": [
    {
     "name": "stdout",
     "output_type": "stream",
     "text": [
      "Average article length : 784.4009\n",
      "Average highlight length : 57.3294\n"
     ]
    }
   ],
   "source": [
    "avg_article_length = np.mean([len(x) for x in tokenized_train_articles])\n",
    "avg_highlight_length = np.mean([len(x) for x in tokenized_train_highlights])\n",
    "print(\"Average article length : {}\".format(avg_article_length))\n",
    "print(\"Average highlight length : {}\".format(avg_highlight_length))"
   ]
  },
  {
   "cell_type": "code",
   "execution_count": 11,
   "metadata": {},
   "outputs": [
    {
     "name": "stdout",
     "output_type": "stream",
     "text": [
      "[('<PAD>', 0), ('<UNK>', 1), ('<SOS>', 2), ('<EOS>', 3), ('by', 4), ('.', 5), ('associated', 6), ('press', 7), ('published', 8), ('14', 9)]\n",
      "56005\n"
     ]
    }
   ],
   "source": [
    "#Importing Dataset and DataLoader\n",
    "from torch.utils.data import Dataset, DataLoader\n",
    "\n",
    "#Creatin vocabulary\n",
    "def create_vocab(tokenized):\n",
    "    vocab = {}\n",
    "    freq = {}\n",
    "    #add  and  tokens\n",
    "    vocab['<PAD>'] = 0\n",
    "    vocab['<UNK>'] = 1\n",
    "    vocab['<SOS>'] = 2\n",
    "    vocab['<EOS>'] = 3\n",
    "    freq['<PAD>'] = 0\n",
    "    freq['<UNK>'] = 0\n",
    "    freq['<SOS>'] = 0\n",
    "    freq['<EOS>'] = 0\n",
    "    #add tokens from tokenized sentences to vocab and freq\n",
    "    for sent in tokenized:\n",
    "        for word in sent:\n",
    "            if word not in vocab:\n",
    "                vocab[word] = len(vocab)\n",
    "                freq[word] = 1\n",
    "            else:\n",
    "                freq[word] += 1\n",
    "    #words with freq less than 5 are replaced with  token\n",
    "    vocab_final = {}\n",
    "    vocab_final['<PAD>'] = 0\n",
    "    vocab_final['<UNK>'] = 1\n",
    "    vocab_final['<SOS>'] = 2\n",
    "    vocab_final['<EOS>'] = 3\n",
    "    #add tokens from tokenized sentences to vocab_final if freq is greater than 5\n",
    "    for word in vocab:\n",
    "        if freq[word] >= 3:\n",
    "            vocab_final[word] = len(vocab_final)\n",
    "    return vocab_final\n",
    "\n",
    "#build vocab from tokenized sentences\n",
    "vocab = create_vocab(tokenized_train_articles)\n",
    "print(list(vocab.items())[:10])\n",
    "#print length of vocab\n",
    "print(len(vocab))"
   ]
  },
  {
   "cell_type": "code",
   "execution_count": 12,
   "metadata": {},
   "outputs": [],
   "source": [
    "#Changing tokens in tokenized sentences to indices\n",
    "def token2index_dataset(tokenized):\n",
    "    indices = []\n",
    "    for sent in tokenized:\n",
    "        index = []\n",
    "        for word in sent:\n",
    "            if word in vocab:\n",
    "                index.append(vocab[word])\n",
    "            else:\n",
    "                index.append(vocab['<UNK>'])\n",
    "        indices.append(index)\n",
    "    return indices\n",
    "train_articles = token2index_dataset(tokenized_train_articles)\n",
    "train_highlights = token2index_dataset(tokenized_train_highlights)\n",
    "test_articles = token2index_dataset(tokenized_test_articles)\n",
    "test_highlights = token2index_dataset(tokenized_test_highlights)"
   ]
  },
  {
   "cell_type": "code",
   "execution_count": 13,
   "metadata": {},
   "outputs": [],
   "source": [
    "#Function to pad sentences to max length\n",
    "def pad_sents(sents, pad_token, max_len):\n",
    "    padded_sents = []\n",
    "    for sent in sents:\n",
    "        if len(sent) < max_len:\n",
    "            padded_sents.append(sent + [pad_token] * (max_len - len(sent)))\n",
    "        else:\n",
    "            padded_sents.append(sent[:max_len])\n",
    "    return padded_sents\n",
    "\n",
    "def pad_sents2(sents, pad_token, max_len):\n",
    "    padded_sents = []\n",
    "    for sent in sents:\n",
    "        if len(sent) < max_len:\n",
    "            padded_sents.append(sent + [pad_token] * (max_len - len(sent)))\n",
    "        else:\n",
    "            padded_sents.append(sent[:max_len])\n",
    "            #replace last token with <EOS> token\n",
    "            padded_sents[-1][-1] = vocab['<EOS>']\n",
    "    return padded_sents"
   ]
  },
  {
   "cell_type": "code",
   "execution_count": 14,
   "metadata": {},
   "outputs": [],
   "source": [
    "class PointerGenDataset(Dataset):\n",
    "    def __init__(self, articles, highlights, vocab):\n",
    "        self.articles = articles\n",
    "        self.highlights = highlights\n",
    "        self.vocab = vocab\n",
    "        self.encoder_data = pad_sents(self.articles, self.vocab['<PAD>'], 300)\n",
    "        self.decoder_data = pad_sents2(self.highlights, self.vocab['<PAD>'], 75)\n",
    "\n",
    "    def __len__(self):\n",
    "        return len(self.encoder_data), len(self.decoder_data)\n",
    "\n",
    "    def __getitem__(self, idx):\n",
    "        encoder_data = torch.tensor(self.encoder_data[idx])\n",
    "        decoder_data = torch.tensor(self.decoder_data[idx])\n",
    "        return encoder_data, decoder_data\n",
    "\n",
    "#Creating dataset\n",
    "train_dataset = list(PointerGenDataset(train_articles, train_highlights, vocab))\n",
    "# print(train_dataset[1000])\n",
    "# print(len(train_dataset))\n",
    "\n",
    "#Creating dataset\n",
    "# print(test_dataset[12])\n",
    "# print(len(test_dataset))\n",
    "\n"
   ]
  },
  {
   "cell_type": "code",
   "execution_count": 15,
   "metadata": {},
   "outputs": [],
   "source": [
    "class PointerGenDataset(Dataset):\n",
    "    def __init__(self, articles, highlights, vocab):\n",
    "        self.articles = articles\n",
    "        self.highlights = highlights\n",
    "        self.vocab = vocab\n",
    "        self.encoder_data = pad_sents(self.articles, self.vocab['<PAD>'], 300)\n",
    "        self.decoder_data = pad_sents2(self.highlights, self.vocab['<PAD>'], 100)\n",
    "\n",
    "    def __len__(self):\n",
    "        return len(self.encoder_data), len(self.decoder_data)\n",
    "\n",
    "    def __getitem__(self, idx):\n",
    "        encoder_data = torch.tensor(self.encoder_data[idx])\n",
    "        decoder_data = torch.tensor(self.decoder_data[idx])\n",
    "        return encoder_data, decoder_data\n",
    "    \n",
    "test_dataset = list(PointerGenDataset(test_articles, test_highlights, vocab))"
   ]
  },
  {
   "cell_type": "code",
   "execution_count": 16,
   "metadata": {},
   "outputs": [
    {
     "name": "stdout",
     "output_type": "stream",
     "text": [
      "Train Dataset:\n",
      "torch.Size([4, 300])\n",
      "torch.Size([4, 75])\n",
      "2500\n",
      "torch.Size([4, 300])\n",
      "torch.Size([4, 100])\n",
      "2500\n"
     ]
    }
   ],
   "source": [
    "#Create dataloaders and organize datasets based on batch size\n",
    "batch_size = 4\n",
    "train_loader = DataLoader(train_dataset, batch_size=batch_size, shuffle=True)\n",
    "encoder_train, decoder_train = next(iter(train_loader))\n",
    "test_loader = DataLoader(test_dataset, batch_size=batch_size, shuffle=True)\n",
    "encoder_test, decoder_test = next(iter(test_loader))\n",
    "print('Train Dataset:')\n",
    "print(encoder_train.shape) #batch_size,seq_len\n",
    "print(decoder_train.shape)\n",
    "print(len(train_loader))\n",
    "print(encoder_test.shape) #batch_size,seq_len\n",
    "print(decoder_test.shape)\n",
    "print(len(test_loader))"
   ]
  },
  {
   "cell_type": "code",
   "execution_count": 17,
   "metadata": {},
   "outputs": [],
   "source": [
    "#Loading GloVe vectors\n",
    "from torchtext.vocab import GloVe\n",
    "glove = GloVe(name='6B', dim=100)"
   ]
  },
  {
   "cell_type": "code",
   "execution_count": 18,
   "metadata": {},
   "outputs": [],
   "source": [
    "def create_embedding_matrix(vocab, embedding_dim):\n",
    "    embedding_matrix = torch.zeros((len(vocab), embedding_dim))\n",
    "    for word, index in vocab.items():\n",
    "        if word in glove.stoi:\n",
    "            embedding_matrix[index] = glove.vectors[glove.stoi[word]]\n",
    "        elif word == '<UNK>':\n",
    "            embedding_matrix[index] = torch.mean(embedding_matrix[:index], dim=0) #dim = 100\n",
    "    return embedding_matrix.detach().clone()\n",
    "\n",
    "#initialize embedding matrix\n",
    "embedding_matrix = create_embedding_matrix(vocab, 100)\n",
    "# print(embedding_matrix.shape)\n",
    "# print(embedding_matrix[0])"
   ]
  },
  {
   "cell_type": "code",
   "execution_count": 19,
   "metadata": {},
   "outputs": [],
   "source": [
    "import torch\n",
    "import torch.nn as nn\n",
    "import torch.nn.functional as F\n",
    "import torch.optim as optim"
   ]
  },
  {
   "cell_type": "code",
   "execution_count": 20,
   "metadata": {
    "scrolled": false
   },
   "outputs": [
    {
     "name": "stdout",
     "output_type": "stream",
     "text": [
      "Encoder(\n",
      "  (embedding): Embedding(56005, 100)\n",
      "  (bi_lstm): LSTM(100, 200, batch_first=True, bidirectional=True)\n",
      "  (fc): Linear(in_features=400, out_features=200, bias=True)\n",
      "  (output_layer): Linear(in_features=200, out_features=56005, bias=True)\n",
      ")\n"
     ]
    }
   ],
   "source": [
    "class Encoder(nn.Module):\n",
    "    def __init__(self, vocab_size, embedding_dim, hidden_dim, batch_size, embedding_matrix):\n",
    "        super(Encoder, self).__init__()\n",
    "        self.vocab_size = vocab_size\n",
    "        self.embedding_dim = embedding_dim\n",
    "        self.hidden_dim = hidden_dim\n",
    "        self.batch_size = batch_size\n",
    "        self.embedding = nn.Embedding.from_pretrained(embedding_matrix)\n",
    "        self.bi_lstm = nn.LSTM(embedding_dim, hidden_dim, bidirectional=True, batch_first=True)\n",
    "        self.fc = nn.Linear(hidden_dim*2, hidden_dim)\n",
    "        self.output_layer = nn.Linear(hidden_dim, vocab_size)\n",
    "    def forward(self, encoder_data):\n",
    "        embeddings = self.embedding(encoder_data)\n",
    "        #dimensions of embeddings: (batch_size, seq_len, embedding_dim)\n",
    "        enc_output, (hidden,cell) = self.bi_lstm(embeddings)\n",
    "        #dimensions of enc_output: (batch_size, seq_len, hidden_dim*2)\n",
    "        #dimensions of hidden: (2, batch_size, hidden_dim)\n",
    "        #dimensions of cell: (2, seq_len, hidden_dim)\n",
    "        hidden = torch.cat((hidden[-2,:,:], hidden[-1,:,:]), dim=1)\n",
    "        #dimensions of hidden: (batch_size, hidden_dim*2)\n",
    "        cell = torch.cat((cell[-2,:,:], cell[-1,:,:]), dim=1)\n",
    "        #dimensions of cell: (batch_size, hidden_dim*2)\n",
    "        hidden = self.fc(hidden)\n",
    "        cell = self.fc(cell)\n",
    "        #reduce enc_output to hidden_dim\n",
    "        enc_output = self.fc(enc_output)\n",
    "        return enc_output, hidden, cell\n",
    "#declare encoder\n",
    "encoder = Encoder(len(vocab), 100, 200, batch_size, embedding_matrix)\n",
    "print(encoder)\n",
    "\n",
    "#display dimensions\n",
    "enc_output, enc_hidden, enc_cell = encoder(encoder_train)\n"
   ]
  },
  {
   "cell_type": "code",
   "execution_count": 21,
   "metadata": {},
   "outputs": [
    {
     "name": "stdout",
     "output_type": "stream",
     "text": [
      "Attention(\n",
      "  (fc): Linear(in_features=200, out_features=200, bias=False)\n",
      "  (embed_fc): Linear(in_features=100, out_features=200, bias=False)\n",
      "  (hiddento1): Linear(in_features=200, out_features=1, bias=False)\n",
      "  (embedsto1): Linear(in_features=100, out_features=1, bias=False)\n",
      ")\n"
     ]
    }
   ],
   "source": [
    "class Attention(nn.Module):\n",
    "    def __init__(self, hidden_size):\n",
    "        super(Attention, self).__init__()\n",
    "        self.hidden_size = hidden_size\n",
    "        # Defining the layers/weights required depending on alignment scoring method\n",
    "        self.fc = nn.Linear(hidden_size, hidden_size, bias=False)\n",
    "        self.embed_fc = nn.Linear(100, hidden_size, bias=False)\n",
    "        self.hiddento1 = nn.Linear(hidden_size, 1, bias=False)\n",
    "        self.embedsto1 = nn.Linear(100, 1, bias=False)\n",
    "        #create a learnable parameter of (batch_size, 1)\n",
    "        self.v = nn.Parameter(torch.rand(hidden_size, 1))\n",
    "  \n",
    "    def forward(self, decoder_hidden, encoder_outputs, embeddings):\n",
    "        #encoder_outputs: (batch_size, seq_len, hidden_dim)\n",
    "        #decoder_hidden: (batch_size, hidden_dim)\n",
    "        alignmt_scores = torch.bmm(encoder_outputs, decoder_hidden.unsqueeze(2)).squeeze(2)\n",
    "        #alignmt_scores: (batch_size, seq_len)\n",
    "        alignmt_weights = F.softmax(alignmt_scores, dim=1)\n",
    "        #alignmt_weights: (batch_size, seq_len)\n",
    "        context_vector = torch.bmm(encoder_outputs.transpose(1,2), alignmt_weights.unsqueeze(2)).squeeze(2)\n",
    "        #context_vector: (batch_size, hidden_dim)\n",
    "        p_gen = torch.sigmoid(self.hiddento1(decoder_hidden) + self.embedsto1(embeddings) + self.hiddento1(context_vector))\n",
    "        return alignmt_weights, context_vector, p_gen\n",
    "\n",
    "#declare attention\n",
    "attention = Attention(200)\n",
    "print(attention)\n",
    "\n",
    "# alignmt_weights, context_vector, p_gen = attention(enc_hidden, enc_output)\n",
    "# print(alignmt_weights.shape) # (batch_size, seq_len)\n",
    "# print(context_vector.shape) # (batch_size, hidden_dim)\n",
    "# print(p_gen.shape) # (batch_size, 1)"
   ]
  },
  {
   "cell_type": "code",
   "execution_count": 22,
   "metadata": {},
   "outputs": [
    {
     "name": "stdout",
     "output_type": "stream",
     "text": [
      "AttentionDecoder(\n",
      "  (encoder): Encoder(\n",
      "    (embedding): Embedding(56005, 100)\n",
      "    (bi_lstm): LSTM(100, 200, batch_first=True, bidirectional=True)\n",
      "    (fc): Linear(in_features=400, out_features=200, bias=True)\n",
      "    (output_layer): Linear(in_features=200, out_features=56005, bias=True)\n",
      "  )\n",
      "  (dec_lstm): LSTM(100, 200, batch_first=True)\n",
      "  (attention): Attention(\n",
      "    (fc): Linear(in_features=200, out_features=200, bias=False)\n",
      "    (embed_fc): Linear(in_features=100, out_features=200, bias=False)\n",
      "    (hiddento1): Linear(in_features=200, out_features=1, bias=False)\n",
      "    (embedsto1): Linear(in_features=100, out_features=1, bias=False)\n",
      "  )\n",
      "  (embedding): Embedding(56005, 100)\n",
      "  (output_layer): Linear(in_features=400, out_features=56005, bias=True)\n",
      ")\n"
     ]
    }
   ],
   "source": [
    "class AttentionDecoder(nn.Module):\n",
    "    def __init__(self,embed_dim, hidden_dim, batch_size, vocab_size, embedding_matrix, encoder, attention):\n",
    "        super(AttentionDecoder, self).__init__()\n",
    "        self.embed_dim = embed_dim\n",
    "        self.hidden_dim = hidden_dim\n",
    "        self.batch_size = batch_size\n",
    "        self.vocab_size = vocab_size\n",
    "        self.encoder = encoder\n",
    "        self.dec_lstm = nn.LSTM(embed_dim, hidden_dim, batch_first=True)\n",
    "        self.attention = attention\n",
    "        self.embedding = nn.Embedding.from_pretrained(embedding_matrix)\n",
    "        self.output_layer = nn.Linear(hidden_dim*2, vocab_size)\n",
    "    def forward(self, encoder_data, decoder_data):\n",
    "        #pass encoder data through encoder\n",
    "        enc_output, enc_hidden, enc_cell = self.encoder(encoder_data)\n",
    "        enc_seq_len = enc_output.shape[1]\n",
    "        dec_seq_len = decoder_data.shape[1]\n",
    "        dec_hidden = enc_hidden.unsqueeze(0) #dimensions: (1, batch_size, hidden_dim)\n",
    "        dec_cell = enc_cell.unsqueeze(0)\n",
    "        vocab_dist = torch.zeros((self.batch_size, dec_seq_len, self.vocab_size))\n",
    "        for t in range(dec_seq_len):\n",
    "            #pass decoder data through embedding layer\n",
    "            embeddings = self.embedding(decoder_data[:,t])\n",
    "            #dimensions of embeddings: (batch_size, embedding_dim)\n",
    "            #pass embeddings through decoder\n",
    "            dec_output, (dec_hidden, dec_cell) = self.dec_lstm(embeddings.unsqueeze(1), (dec_hidden, dec_cell))\n",
    "            #dimensions of dec_output: (batch_size, hidden_dim) #dec_hidden: (1, batch_size, hidden_dim) #dec_cell: (1, batch_size, hidden_dim)\n",
    "            #apply attention\n",
    "            dec_attn_hidden = dec_hidden.squeeze(0)\n",
    "            #dimensions of dec_attn_hidden: (batch_size, hidden_dim)\n",
    "#             alignmt_weights, context_vector, p_gen = self.attention(dec_attn_hidden, enc_output)\n",
    "            alignmt_weights, context_vector, p_gen = self.attention(dec_attn_hidden, enc_output, embeddings)\n",
    "            #dimensions of alignmt_weights: (batch_size, seq_len)\n",
    "            #dimensions of context_vector: (batch_size, hidden_dim)\n",
    "            copy_vocab = torch.zeros((self.batch_size, self.vocab_size)).to(device)\n",
    "            copy_vocab = copy_vocab.scatter_add_(1, encoder_data, alignmt_weights)\n",
    "            #concatenate context_vector and dec_output\n",
    "        \n",
    "            dec_output = dec_output.squeeze(1)\n",
    "            dec_output = torch.cat((dec_output, context_vector), dim=1)\n",
    "            #dimensions of dec_output: (batch_size, hidden_dim*2)\n",
    "            #pass dec_output through output layer\n",
    "            dec_output = self.output_layer(dec_output)\n",
    "            #dimensions of dec_output: (batch_size, vocab_size)\n",
    "            p_final = p_gen* dec_output + copy_vocab * (1-p_gen)#dimensions: (batch_size, vocab_size)\n",
    "            vocab_dist[:,t,:] = p_final\n",
    "#             vocab_dist[:,t,:] = dec_output\n",
    "        return vocab_dist\n",
    "\n",
    "#declare decoder\n",
    "decoder = AttentionDecoder(100, 200, batch_size, len(vocab), embedding_matrix, encoder, attention)\n",
    "print(decoder)"
   ]
  },
  {
   "cell_type": "code",
   "execution_count": 23,
   "metadata": {},
   "outputs": [],
   "source": [
    "model = decoder.to(device)\n",
    "optimizer = optim.Adam(model.parameters(), lr=0.001)\n",
    "criterion = nn.CrossEntropyLoss(ignore_index=0)"
   ]
  },
  {
   "cell_type": "code",
   "execution_count": 24,
   "metadata": {
    "scrolled": true
   },
   "outputs": [
    {
     "name": "stderr",
     "output_type": "stream",
     "text": [
      "  0%|                                        | 1/2500 [00:01<1:00:32,  1.45s/it]"
     ]
    },
    {
     "name": "stdout",
     "output_type": "stream",
     "text": [
      "Epoch: 0 | Batch: 0 | Loss: 10.925152778625488\n"
     ]
    },
    {
     "name": "stderr",
     "output_type": "stream",
     "text": [
      " 40%|██████████████▊                      | 1001/2500 [32:12<1:00:34,  2.42s/it]"
     ]
    },
    {
     "name": "stdout",
     "output_type": "stream",
     "text": [
      "Epoch: 0 | Batch: 1000 | Loss: 1.648565649986267\n"
     ]
    },
    {
     "name": "stderr",
     "output_type": "stream",
     "text": [
      " 80%|█████████████████████████████▌       | 2001/2500 [1:01:31<13:42,  1.65s/it]"
     ]
    },
    {
     "name": "stdout",
     "output_type": "stream",
     "text": [
      "Epoch: 0 | Batch: 2000 | Loss: 1.1546475887298584\n"
     ]
    },
    {
     "name": "stderr",
     "output_type": "stream",
     "text": [
      "100%|█████████████████████████████████████| 2500/2500 [1:15:32<00:00,  1.81s/it]\n",
      "  0%|                                        | 1/2500 [00:02<1:49:36,  2.63s/it]"
     ]
    },
    {
     "name": "stdout",
     "output_type": "stream",
     "text": [
      "Epoch: 1 | Batch: 0 | Loss: 0.7870188355445862\n"
     ]
    },
    {
     "name": "stderr",
     "output_type": "stream",
     "text": [
      " 40%|███████████████▌                       | 1001/2500 [30:16<39:38,  1.59s/it]"
     ]
    },
    {
     "name": "stdout",
     "output_type": "stream",
     "text": [
      "Epoch: 1 | Batch: 1000 | Loss: 0.6258990168571472\n"
     ]
    },
    {
     "name": "stderr",
     "output_type": "stream",
     "text": [
      " 80%|█████████████████████████████▌       | 2001/2500 [1:00:32<16:06,  1.94s/it]"
     ]
    },
    {
     "name": "stdout",
     "output_type": "stream",
     "text": [
      "Epoch: 1 | Batch: 2000 | Loss: 0.5346208810806274\n"
     ]
    },
    {
     "name": "stderr",
     "output_type": "stream",
     "text": [
      "100%|█████████████████████████████████████| 2500/2500 [1:14:26<00:00,  1.79s/it]\n"
     ]
    }
   ],
   "source": [
    "from tqdm import tqdm\n",
    "epochs = 2\n",
    "for epoch in range(epochs):\n",
    "    model.train()\n",
    "    for i, (encoder_data, decoder_data) in enumerate(tqdm(train_loader)):\n",
    "        encoder_data = encoder_data.to(device)\n",
    "        decoder_data = decoder_data.to(device)\n",
    "        optimizer.zero_grad()\n",
    "        vocab_dist = model(encoder_data, decoder_data)\n",
    "        vocab_dist = vocab_dist[:,1:,:] #dimensions: (batch_size, seq_len, vocab_size)\n",
    "        vocab_dist = vocab_dist.permute(0,2,1).to(device)\n",
    "        decoder_data = decoder_data[:,1:] #dimensions: (batch_size, seq_len)\n",
    "        #apply cross entropy loss\n",
    "        loss = criterion(vocab_dist, decoder_data)\n",
    "        loss.backward()\n",
    "        optimizer.step()\n",
    "        if i % 1000 == 0:\n",
    "            print(\"Epoch: {} | Batch: {} | Loss: {}\".format(epoch, i, loss.item()))"
   ]
  },
  {
   "cell_type": "code",
   "execution_count": 26,
   "metadata": {},
   "outputs": [],
   "source": [
    "torch.save(model.state_dict(), \"pgn.pt\")"
   ]
  },
  {
   "cell_type": "code",
   "execution_count": null,
   "metadata": {},
   "outputs": [],
   "source": [
    "model.eval()\n",
    "decoder_list = []\n",
    "summary_list = []\n",
    "for i, (encoder_data, decoder_data) in enumerate(test_loader):\n",
    "    encoder_data = encoder_data.to(device) #dimensions: (batch_size, seq_len)\n",
    "    batch_len = encoder_data.shape[0]\n",
    "    decoder_data = decoder_data.to(device) #dimensions: (batch_size, seq_len)\n",
    "    vocab_dist = model(encoder_data, decoder_data) #dimensions: (batch_size, seq_len, vocab_size) \n",
    "    vocab_dist = vocab_dist[:,1:,:] #dimensions: (batch_size, seq_len, vocab_size)\n",
    "    #take the index of the word with the highest probability\n",
    "    vocab_dist = torch.argmax(vocab_dist, dim=2) #dimensions: (batch_size, seq_len)\n",
    "    vocab_dist = vocab_dist.tolist()\n",
    "    decoder_data = decoder_data.tolist()\n",
    "    for i in range(batch_len):\n",
    "        decoder_list.append(decoder_data[i])\n",
    "        summary_list.append(vocab_dist[i])"
   ]
  },
  {
   "cell_type": "code",
   "execution_count": 24,
   "metadata": {},
   "outputs": [
    {
     "name": "stdout",
     "output_type": "stream",
     "text": [
      "[(0, '<PAD>'), (1, '<UNK>'), (2, '<SOS>'), (3, '<EOS>'), (4, 'by'), (5, '.'), (6, 'associated'), (7, 'press'), (8, 'published'), (9, '14')]\n"
     ]
    }
   ],
   "source": [
    "vocab_inv = {v: k for k, v in vocab.items()}"
   ]
  },
  {
   "cell_type": "code",
   "execution_count": 25,
   "metadata": {},
   "outputs": [],
   "source": [
    "def index2token_dataset(indices):\n",
    "    tokenized = []\n",
    "    for index in indices:\n",
    "        sent = []\n",
    "        for word in index:\n",
    "            sent.append(vocab_inv[word])\n",
    "        tokenized.append(sent)\n",
    "    return tokenized\n",
    "\n",
    "decoder_list = index2token_dataset(decoder_list)\n",
    "summary_list = index2token_dataset(summary_list)"
   ]
  },
  {
   "cell_type": "code",
   "execution_count": 26,
   "metadata": {
    "scrolled": true
   },
   "outputs": [],
   "source": [
    "decoder_list = [' '.join(sent) for sent in decoder_list]\n",
    "summary_list = [' '.join(sent) for sent in summary_list]\n",
    "#preview 5 examples"
   ]
  },
  {
   "cell_type": "code",
   "execution_count": 27,
   "metadata": {},
   "outputs": [],
   "source": [
    "from rouge_score import rouge_scorer\n",
    "# make a RougeScorer object with rouge_types=['rouge1']\n",
    "scorer = rouge_scorer.RougeScorer(['rougeL'])\n",
    "\n",
    "# a dictionary that will contain the results\n",
    "results = {'precision': [], 'recall': [], 'fmeasure': []}\n",
    "\n",
    "# for each of the hypothesis and reference documents pair\n",
    "for (h, r) in zip(decoder_list, summary_list):\n",
    "    # computing the ROUGE\n",
    "    score = scorer.score(h, r)\n",
    "    # separating the measurements\n",
    "    precision, recall, fmeasure = score['rougeL']\n",
    "    # add them to the proper list in the dictionary\n",
    "    results['precision'].append(precision)\n",
    "    results['recall'].append(recall)\n",
    "    results['fmeasure'].append(fmeasure)\n"
   ]
  },
  {
   "cell_type": "code",
   "execution_count": 28,
   "metadata": {},
   "outputs": [
    {
     "name": "stdout",
     "output_type": "stream",
     "text": [
      "Average Precision:  0.5227376696526551\n",
      "Average Recall:  0.5076503264607269\n",
      "Average F-Measure:  0.5150518751133109\n"
     ]
    }
   ],
   "source": [
    "#calculating the average\n",
    "avg_precision = sum(results['precision']) / len(results['precision'])\n",
    "avg_recall = sum(results['recall']) / len(results['recall'])\n",
    "avg_fmeasure = sum(results['fmeasure']) / len(results['fmeasure'])\n",
    "print(\"Average Precision: \", avg_precision)\n",
    "print(\"Average Recall: \", avg_recall)\n",
    "print(\"Average F-Measure: \", avg_fmeasure)\n"
   ]
  },
  {
   "cell_type": "code",
   "execution_count": 30,
   "metadata": {
    "scrolled": true
   },
   "outputs": [
    {
     "data": {
      "text/html": [
       "<div>\n",
       "<style scoped>\n",
       "    .dataframe tbody tr th:only-of-type {\n",
       "        vertical-align: middle;\n",
       "    }\n",
       "\n",
       "    .dataframe tbody tr th {\n",
       "        vertical-align: top;\n",
       "    }\n",
       "\n",
       "    .dataframe thead th {\n",
       "        text-align: right;\n",
       "    }\n",
       "</style>\n",
       "<table border=\"1\" class=\"dataframe\">\n",
       "  <thead>\n",
       "    <tr style=\"text-align: right;\">\n",
       "      <th></th>\n",
       "      <th>Encoder</th>\n",
       "      <th>Summary</th>\n",
       "    </tr>\n",
       "  </thead>\n",
       "  <tbody>\n",
       "    <tr>\n",
       "      <th>0</th>\n",
       "      <td>&lt;SOS&gt; &lt;UNK&gt; was heir to the banking , oil and ...</td>\n",
       "      <td>&lt;UNK&gt; was &lt;UNK&gt; to the &lt;UNK&gt; , &lt;UNK&gt; and &lt;UNK&gt;...</td>\n",
       "    </tr>\n",
       "    <tr>\n",
       "      <th>1</th>\n",
       "      <td>&lt;SOS&gt; &lt;UNK&gt; proposed as part of the deal to ta...</td>\n",
       "      <td>&lt;UNK&gt; &lt;UNK&gt; as part of the deal to help &lt;UNK&gt; ...</td>\n",
       "    </tr>\n",
       "    <tr>\n",
       "      <th>2</th>\n",
       "      <td>&lt;SOS&gt; ira &lt;UNK&gt; , 61 , of california , found g...</td>\n",
       "      <td>&lt;UNK&gt; &lt;UNK&gt; , 000 , of california , found guil...</td>\n",
       "    </tr>\n",
       "    <tr>\n",
       "      <th>3</th>\n",
       "      <td>&lt;SOS&gt; a fire at &lt;UNK&gt; &lt;UNK&gt; ltd . in &lt;UNK&gt; kil...</td>\n",
       "      <td>a fire at &lt;UNK&gt; &lt;UNK&gt; &lt;UNK&gt; . in &lt;UNK&gt; killed ...</td>\n",
       "    </tr>\n",
       "    <tr>\n",
       "      <th>4</th>\n",
       "      <td>&lt;SOS&gt; sen &lt;UNK&gt; feinstein , the sponsor of the...</td>\n",
       "      <td>&lt;UNK&gt; &lt;UNK&gt; &lt;UNK&gt; , the &lt;UNK&gt; of the &lt;UNK&gt; , m...</td>\n",
       "    </tr>\n",
       "  </tbody>\n",
       "</table>\n",
       "</div>"
      ],
      "text/plain": [
       "                                             Encoder  \\\n",
       "0  <SOS> <UNK> was heir to the banking , oil and ...   \n",
       "1  <SOS> <UNK> proposed as part of the deal to ta...   \n",
       "2  <SOS> ira <UNK> , 61 , of california , found g...   \n",
       "3  <SOS> a fire at <UNK> <UNK> ltd . in <UNK> kil...   \n",
       "4  <SOS> sen <UNK> feinstein , the sponsor of the...   \n",
       "\n",
       "                                             Summary  \n",
       "0  <UNK> was <UNK> to the <UNK> , <UNK> and <UNK>...  \n",
       "1  <UNK> <UNK> as part of the deal to help <UNK> ...  \n",
       "2  <UNK> <UNK> , 000 , of california , found guil...  \n",
       "3  a fire at <UNK> <UNK> <UNK> . in <UNK> killed ...  \n",
       "4  <UNK> <UNK> <UNK> , the <UNK> of the <UNK> , m...  "
      ]
     },
     "execution_count": 30,
     "metadata": {},
     "output_type": "execute_result"
    }
   ],
   "source": [
    "df_outty = pd.DataFrame({'Encoder': decoder_list, 'Summary': summary_list})\n",
    "df_outty.head()\n",
    "df_outty.to_csv('20k_test.csv', index=False)"
   ]
  },
  {
   "cell_type": "code",
   "execution_count": null,
   "metadata": {},
   "outputs": [],
   "source": []
  }
 ],
 "metadata": {
  "kernelspec": {
   "display_name": "pyt",
   "language": "python",
   "name": "pyt"
  },
  "language_info": {
   "codemirror_mode": {
    "name": "ipython",
    "version": 3
   },
   "file_extension": ".py",
   "mimetype": "text/x-python",
   "name": "python",
   "nbconvert_exporter": "python",
   "pygments_lexer": "ipython3",
   "version": "3.10.4"
  }
 },
 "nbformat": 4,
 "nbformat_minor": 5
}
